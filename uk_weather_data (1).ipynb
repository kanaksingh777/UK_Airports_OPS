{
 "cells": [
  {
   "cell_type": "code",
   "execution_count": 0,
   "metadata": {
    "application/vnd.databricks.v1+cell": {
     "cellMetadata": {
      "byteLimit": 2048000,
      "rowLimit": 10000
     },
     "inputWidgets": {},
     "nuid": "b1dacf71-5769-4172-8d11-8cb79858e6fa",
     "showTitle": false,
     "tableResultSettingsMap": {},
     "title": ""
    }
   },
   "outputs": [],
   "source": [
    "# Imports\n",
    "import requests\n",
    "import json\n",
    "from datetime import datetime\n",
    "from pyspark.sql.types import *\n",
    "from pyspark.sql.functions import col\n",
    "from pyspark.sql import SparkSession\n",
    "     "
   ]
  },
  {
   "cell_type": "code",
   "execution_count": 0,
   "metadata": {
    "application/vnd.databricks.v1+cell": {
     "cellMetadata": {
      "byteLimit": 2048000,
      "rowLimit": 10000
     },
     "inputWidgets": {},
     "nuid": "3e154fce-9203-4009-9f5c-c9ea751a7183",
     "showTitle": false,
     "tableResultSettingsMap": {},
     "title": ""
    }
   },
   "outputs": [],
   "source": [
    "\n",
    "\n",
    "# Load UK airport geocode data\n",
    "uk_airports_df = spark.table(\"dataexpert.kanak_uk_airport_geocode\")\n",
    "uk_airports = uk_airports_df.select(\n",
    "    col(\"iata\").alias(\"airport_code\"),\n",
    "    col(\"airport\").alias(\"airport_name\"),\n",
    "    col(\"latitude_decimal_degrees\").alias(\"latitude\"),\n",
    "    col(\"longitude_decimal_degrees\").alias(\"longitude\")\n",
    ").collect()\n",
    "\n",
    "# OpenWeatherMap API key\n",
    "api_key = \"your api key\"\n",
    "\n",
    "# Schema definition\n",
    "schema = StructType([\n",
    "    StructField(\"datetime\", StringType(), True),\n",
    "    StructField(\"temperature\", DoubleType(), True),\n",
    "    StructField(\"feels_like\", DoubleType(), True),\n",
    "    StructField(\"temp_min\", DoubleType(), True),\n",
    "    StructField(\"temp_max\", DoubleType(), True),\n",
    "    StructField(\"pressure\", IntegerType(), True),\n",
    "    StructField(\"humidity\", IntegerType(), True),\n",
    "    StructField(\"weather_main\", StringType(), True),\n",
    "    StructField(\"weather_description\", StringType(), True),\n",
    "    StructField(\"wind_speed\", DoubleType(), True),\n",
    "    StructField(\"wind_deg\", DoubleType(), True),\n",
    "    StructField(\"wind_gust\", DoubleType(), True),\n",
    "    StructField(\"clouds_all\", IntegerType(), True),\n",
    "    StructField(\"rain_3h\", DoubleType(), True),\n",
    "    StructField(\"pop\", DoubleType(), True),\n",
    "    StructField(\"airport_code\", StringType(), True),\n",
    "])\n",
    "\n",
    "# Collect forecasts from all airports\n",
    "all_airport_forecasts = []\n",
    "\n",
    "for row in uk_airports:\n",
    "    lat = row[\"latitude\"]\n",
    "    lon = row[\"longitude\"]\n",
    "    airport_code = row[\"airport_code\"]\n",
    "\n",
    "    url = f\"https://api.openweathermap.org/data/2.5/forecast?lat={lat}&lon={lon}&units=metric&appid={api_key}\"\n",
    "    response = requests.get(url)\n",
    "\n",
    "    if response.status_code != 200:\n",
    "        print(f\"❌ Failed for {airport_code} - Status code: {response.status_code}\")\n",
    "        continue\n",
    "\n",
    "    forecast_list = response.json().get(\"list\", [])\n",
    "\n",
    "    for entry in forecast_list:\n",
    "        main = entry.get(\"main\", {})\n",
    "        weather = entry.get(\"weather\", [{}])[0]\n",
    "        wind = entry.get(\"wind\", {})\n",
    "        rain = entry.get(\"rain\", {}).get(\"3h\", 0.0)\n",
    "        clouds = entry.get(\"clouds\", {}).get(\"all\", None)\n",
    "\n",
    "        all_airport_forecasts.append({\n",
    "            \"datetime\": entry.get(\"dt_txt\"),\n",
    "            \"temperature\": float(main.get(\"temp\", 0.0)),\n",
    "            \"feels_like\": float(main.get(\"feels_like\", 0.0)),\n",
    "            \"temp_min\": float(main.get(\"temp_min\", 0.0)),\n",
    "            \"temp_max\": float(main.get(\"temp_max\", 0.0)),\n",
    "            \"pressure\": int(main.get(\"pressure\", 0)),\n",
    "            \"humidity\": int(main.get(\"humidity\", 0)),\n",
    "            \"weather_main\": weather.get(\"main\", \"\"),\n",
    "            \"weather_description\": weather.get(\"description\", \"\"),\n",
    "            \"wind_speed\": float(wind.get(\"speed\", 0.0)),\n",
    "            \"wind_deg\": float(wind.get(\"deg\", 0.0)),\n",
    "            \"wind_gust\": float(wind.get(\"gust\", 0.0)),\n",
    "            \"clouds_all\": int(clouds if clouds is not None else 0),\n",
    "            \"rain_3h\": float(rain),\n",
    "            \"pop\": float(entry.get(\"pop\", 0.0)),\n",
    "            \"airport_code\": airport_code\n",
    "        })\n",
    "\n",
    "# Create Spark DataFrame once with all data\n",
    "forecast_df = spark.createDataFrame(all_airport_forecasts, schema=schema)\n",
    "forecast_df = forecast_df.withColumn(\"datetime\", col(\"datetime\").cast(TimestampType()))\n",
    "\n",
    "forecast_df.write.mode(\"overwrite\").saveAsTable(\"dataexpert.uk_airports_5day_forecast\")\n"
   ]
  },
  {
   "cell_type": "code",
   "execution_count": 0,
   "metadata": {
    "application/vnd.databricks.v1+cell": {
     "cellMetadata": {
      "byteLimit": 2048000,
      "rowLimit": 10000
     },
     "inputWidgets": {},
     "nuid": "641d0765-b0f6-4c7a-83b0-cb76f36434db",
     "showTitle": false,
     "tableResultSettingsMap": {
      "0": {
       "filterBlob": "{\"filterGroups\":[{\"enabled\":true,\"filterGroupId\":\"fg_30097675\",\"op\":\"OR\",\"filters\":[{\"filterId\":\"f_97304fa9\",\"enabled\":true,\"columnId\":\"airport_code\",\"dataType\":\"string\",\"filterType\":\"oneof\"}],\"local\":false,\"updatedAt\":1743436200304}],\"syncTimestamp\":1743436200304}",
       "tableResultIndex": 0
      }
     },
     "title": ""
    }
   },
   "outputs": [],
   "source": []
  },
  {
   "cell_type": "code",
   "execution_count": 0,
   "metadata": {
    "application/vnd.databricks.v1+cell": {
     "cellMetadata": {
      "byteLimit": 2048000,
      "rowLimit": 10000
     },
     "inputWidgets": {},
     "nuid": "15d3e1df-0894-4b3b-890d-49307fa2ebeb",
     "showTitle": false,
     "tableResultSettingsMap": {},
     "title": ""
    }
   },
   "outputs": [],
   "source": []
  }
 ],
 "metadata": {
  "application/vnd.databricks.v1+notebook": {
   "computePreferences": null,
   "dashboards": [],
   "environmentMetadata": {
    "base_environment": "",
    "environment_version": "2"
   },
   "inputWidgetPreferences": null,
   "language": "python",
   "notebookMetadata": {
    "pythonIndentUnit": 4
   },
   "notebookName": "uk_weather_data",
   "widgets": {}
  },
  "language_info": {
   "name": "python"
  }
 },
 "nbformat": 4,
 "nbformat_minor": 0
}